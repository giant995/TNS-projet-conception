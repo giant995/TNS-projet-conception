{
 "cells": [
  {
   "cell_type": "code",
   "execution_count": 1,
   "metadata": {},
   "outputs": [],
   "source": [
    "import numpy as np\n",
    "import cv2\n",
    "import matplotlib.pyplot as plt\n",
    "%matplotlib widget\n",
    "from io import BytesIO\n",
    "from PIL import Image"
   ]
  },
  {
   "cell_type": "code",
   "execution_count": 2,
   "metadata": {},
   "outputs": [],
   "source": [
    "# Show an image contained in an array\n",
    "def imshow(arr):\n",
    "    plt.imshow(arr, vmin=0, vmax=255, cmap='gray')\n",
    "    plt.tight_layout()\n",
    "    plt.axis('off')\n",
    "    plt.show()"
   ]
  },
  {
   "cell_type": "code",
   "execution_count": 3,
   "metadata": {},
   "outputs": [],
   "source": [
    "def _resize_img(arr, width, height):\n",
    "    return cv2.resize(arr, dsize=(width,height), interpolation=cv2.INTER_CUBIC)"
   ]
  },
  {
   "cell_type": "code",
   "execution_count": 4,
   "metadata": {},
   "outputs": [],
   "source": [
    "def add_noise(img, noise_type):\n",
    "    if noise_type == \"gauss\": # Traitable avec un box filter\n",
    "        print(\"putting some gauss\")\n",
    "        mean = 0.0 # at 50, we can remove the background and still have a somehwat good image\n",
    "        std = 40.0\n",
    "        noisy_img = img + np.random.normal(mean, std, img.shape)\n",
    "        out = np.clip(noisy_img, 0, 255) # Clip any out of bound noise\n",
    "        return out\n",
    "    elif noise_type == \"s&p\": # Facilement traitable avec un median filter\n",
    "        #Add random salt and pepper noise on an image.\n",
    "        #0 < s_vs_p < 1: 0 being only pepper, 1 being only salt\n",
    "        #amount: intensity of the noise\n",
    "        s_vs_p = 0.5\n",
    "        amount = 0.05\n",
    "        out = np.copy(img)\n",
    "\n",
    "        # Salt mode\n",
    "        num_salt = np.ceil(amount * img.size * s_vs_p)\n",
    "        print(\"Salt: {}\".format(num_salt))\n",
    "        coords = [np.random.randint(0, i-1, int(num_salt))\n",
    "                for i in img.shape]\n",
    "        out[tuple(coords)] = 1\n",
    "\n",
    "        # Pepper mode\n",
    "        num_pepper = np.ceil(amount * img.size * (1. - s_vs_p))\n",
    "        print(\"Pepper: {}\".format(num_pepper))\n",
    "        coords = [np.random.randint(0, i - 1, int(num_pepper))\n",
    "                for i in img.shape]\n",
    "        out[tuple(coords)] = 0\n",
    "        return out\n",
    "    elif noise_type == \"poisson\":\n",
    "        vals = len(np.unique(img))\n",
    "        vals = 2 ** np.ceil(np.log2(vals))\n",
    "        out = np.random.poisson(img * vals) / float(vals)\n",
    "        return out\n",
    "    elif noise_type ==\"speckle\": # bruit cacarterised par le rayonnement cosmique. Requiert des filtres actifs non-linerais pour traiter\n",
    "        row,col = img.shape\n",
    "        gauss = np.random.randn(row,col)\n",
    "        gauss = gauss.reshape(row,col)        \n",
    "        out = img + img * gauss\n",
    "        return out"
   ]
  },
  {
   "cell_type": "markdown",
   "metadata": {},
   "source": [
    "<h1>Filtering salt and pepper noise on a 400x400 image</h1>"
   ]
  },
  {
   "cell_type": "code",
   "execution_count": 5,
   "metadata": {},
   "outputs": [],
   "source": [
    "img = cv2.imread(\"data/M1-67.png\")             # Open an image with opencv. Start to run from this line so the noise isn't added on top"
   ]
  },
  {
   "cell_type": "code",
   "execution_count": 6,
   "metadata": {},
   "outputs": [],
   "source": [
    "img = _resize_img(img, 400, 400)                          # Resizes it to 400x400 pixels"
   ]
  },
  {
   "cell_type": "markdown",
   "metadata": {},
   "source": [
    "<h2>M1-67 Nebula</h2>"
   ]
  },
  {
   "cell_type": "code",
   "execution_count": 7,
   "metadata": {},
   "outputs": [
    {
     "data": {
      "application/vnd.jupyter.widget-view+json": {
       "model_id": "810d227263d046608792ae386db45afd",
       "version_major": 2,
       "version_minor": 0
      },
      "text/plain": [
       "Canvas(toolbar=Toolbar(toolitems=[('Home', 'Reset original view', 'home', 'home'), ('Back', 'Back to previous …"
      ]
     },
     "metadata": {},
     "output_type": "display_data"
    }
   ],
   "source": [
    "img = cv2.cvtColor(img, cv2.COLOR_BGR2GRAY)     # Convert to grayscale\n",
    "imshow(img)"
   ]
  },
  {
   "cell_type": "code",
   "execution_count": 11,
   "metadata": {},
   "outputs": [
    {
     "name": "stdout",
     "output_type": "stream",
     "text": [
      "Salt: 4000.0\n",
      "Pepper: 4000.0\n"
     ]
    }
   ],
   "source": [
    "snp = add_noise(img, \"s&p\")          # Add salt and pepper noise\n",
    "imshow(snp)"
   ]
  },
  {
   "cell_type": "markdown",
   "metadata": {},
   "source": [
    "<h3>Box filter</h3>"
   ]
  },
  {
   "cell_type": "code",
   "execution_count": null,
   "metadata": {},
   "outputs": [],
   "source": [
    "box = cv2.blur(median,(3,3))\n",
    "imshow(box)"
   ]
  },
  {
   "cell_type": "markdown",
   "metadata": {},
   "source": [
    "<h3>Median + Box filters</h3>"
   ]
  },
  {
   "cell_type": "code",
   "execution_count": 23,
   "metadata": {},
   "outputs": [],
   "source": [
    "median = cv2.medianBlur(snp, 3)\n",
    "box = cv2.blur(median,(3,3))\n",
    "imshow(box)"
   ]
  },
  {
   "cell_type": "markdown",
   "metadata": {},
   "source": [
    "<h3>Gaussian filter</h3>"
   ]
  },
  {
   "cell_type": "code",
   "execution_count": 13,
   "metadata": {},
   "outputs": [],
   "source": [
    "gaussian = cv2.GaussianBlur(snp,(5,5),0)\n",
    "imshow(gaussian)"
   ]
  },
  {
   "cell_type": "markdown",
   "metadata": {},
   "source": [
    "<h3>Median filter</h3>"
   ]
  },
  {
   "cell_type": "code",
   "execution_count": 14,
   "metadata": {},
   "outputs": [],
   "source": [
    "median = cv2.medianBlur(snp, 5)\n",
    "imshow(median)"
   ]
  },
  {
   "cell_type": "markdown",
   "metadata": {},
   "source": [
    "<h3>Bilateral filter</h3>"
   ]
  },
  {
   "cell_type": "code",
   "execution_count": 15,
   "metadata": {},
   "outputs": [],
   "source": [
    "bilat = cv2.bilateralFilter(snp, 9, 75, 75)\n",
    "imshow(bilat)"
   ]
  },
  {
   "cell_type": "markdown",
   "metadata": {},
   "source": [
    "<h3>2D convolutional filter</h3>"
   ]
  },
  {
   "cell_type": "code",
   "execution_count": 16,
   "metadata": {},
   "outputs": [],
   "source": [
    "kernel = np.ones((5,5),np.float32)/25\n",
    "filter2D = cv2.filter2D(snp,-1,kernel)\n",
    "imshow(filter2D)"
   ]
  },
  {
   "cell_type": "markdown",
   "metadata": {},
   "source": [
    "<h1>Filtering Gaussian noise on a 800x800 image</h1>"
   ]
  },
  {
   "cell_type": "code",
   "execution_count": 43,
   "metadata": {},
   "outputs": [],
   "source": [
    "img2 = cv2.imread(\"data/jane_doe.png\")\n",
    "img2 = _resize_img(img2, 800, 800)"
   ]
  },
  {
   "cell_type": "markdown",
   "metadata": {},
   "source": [
    "<h2>Portrait of Jane Doe</h2>"
   ]
  },
  {
   "cell_type": "code",
   "execution_count": 44,
   "metadata": {},
   "outputs": [
    {
     "data": {
      "application/vnd.jupyter.widget-view+json": {
       "model_id": "a67d118b34c74da0822097e1f858c3a2",
       "version_major": 2,
       "version_minor": 0
      },
      "text/plain": [
       "Canvas(toolbar=Toolbar(toolitems=[('Home', 'Reset original view', 'home', 'home'), ('Back', 'Back to previous …"
      ]
     },
     "metadata": {},
     "output_type": "display_data"
    }
   ],
   "source": [
    "img2 = cv2.cvtColor(img2, cv2.COLOR_BGR2GRAY)\n",
    "imshow(img2)"
   ]
  },
  {
   "cell_type": "code",
   "execution_count": 45,
   "metadata": {
    "collapsed": true,
    "jupyter": {
     "outputs_hidden": true,
     "source_hidden": true
    }
   },
   "outputs": [
    {
     "name": "stdout",
     "output_type": "stream",
     "text": [
      "putting some gauss\n"
     ]
    }
   ],
   "source": [
    "gauss = add_noise(img2, \"gauss\")\n",
    "imshow(gauss)"
   ]
  },
  {
   "cell_type": "markdown",
   "metadata": {
    "jupyter": {
     "source_hidden": true
    }
   },
   "source": [
    "<h3>Box filter</h3>"
   ]
  },
  {
   "cell_type": "code",
   "execution_count": 46,
   "metadata": {
    "jupyter": {
     "source_hidden": true
    }
   },
   "outputs": [],
   "source": [
    "box = cv2.blur(gauss,(5,5))\n",
    "imshow(box)"
   ]
  },
  {
   "cell_type": "markdown",
   "metadata": {},
   "source": [
    "<h3>Gaussian filter</h3>"
   ]
  },
  {
   "cell_type": "code",
   "execution_count": 47,
   "metadata": {},
   "outputs": [],
   "source": [
    "gaussian = cv2.GaussianBlur(gauss,(5,5),0)\n",
    "imshow(gaussian)"
   ]
  },
  {
   "cell_type": "markdown",
   "metadata": {},
   "source": [
    "<h3>Median filter</h3>"
   ]
  },
  {
   "cell_type": "code",
   "execution_count": 48,
   "metadata": {},
   "outputs": [],
   "source": [
    "median = cv2.medianBlur(np.float32(gauss), 5)\n",
    "imshow(median)\n",
    "# viens vraiment exarceber le blanc de la porte"
   ]
  },
  {
   "cell_type": "markdown",
   "metadata": {},
   "source": [
    "<h3>Bilateral filter</h3>"
   ]
  },
  {
   "cell_type": "code",
   "execution_count": 49,
   "metadata": {},
   "outputs": [],
   "source": [
    "bilat = cv2.bilateralFilter(np.float32(gauss), 9, 75, 75)\n",
    "imshow(bilat)\n",
    "# fonctionne tres bien quand le mean est tres haut"
   ]
  },
  {
   "cell_type": "markdown",
   "metadata": {},
   "source": [
    "<h3>2D convolutional filter</h3>"
   ]
  },
  {
   "cell_type": "code",
   "execution_count": 50,
   "metadata": {},
   "outputs": [],
   "source": [
    "kernel = np.ones((5,5),np.float32)/25\n",
    "filter2D = cv2.filter2D(gauss,-1,kernel)\n",
    "imshow(filter2D)"
   ]
  },
  {
   "cell_type": "code",
   "execution_count": null,
   "metadata": {},
   "outputs": [],
   "source": []
  }
 ],
 "metadata": {
  "kernelspec": {
   "display_name": "Python 3",
   "language": "python",
   "name": "python3"
  },
  "language_info": {
   "codemirror_mode": {
    "name": "ipython",
    "version": 3
   },
   "file_extension": ".py",
   "mimetype": "text/x-python",
   "name": "python",
   "nbconvert_exporter": "python",
   "pygments_lexer": "ipython3",
   "version": "3.8.2"
  }
 },
 "nbformat": 4,
 "nbformat_minor": 4
}
